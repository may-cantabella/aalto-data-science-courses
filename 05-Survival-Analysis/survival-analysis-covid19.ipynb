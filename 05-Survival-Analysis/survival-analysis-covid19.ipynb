{
 "cells": [
  {
   "cell_type": "markdown",
   "metadata": {},
   "source": [
    "# Survival Analysis"
   ]
  },
  {
   "cell_type": "markdown",
   "metadata": {},
   "source": [
    "## 1. Import Libraries"
   ]
  },
  {
   "cell_type": "code",
   "execution_count": 66,
   "metadata": {},
   "outputs": [],
   "source": [
    "import numpy as np\n",
    "import pandas as pd\n",
    "import matplotlib.pyplot as plt\n",
    "import seaborn as sns\n",
    "import datetime as dt\n",
    "from sklearn.model_selection import train_test_split\n",
    "%matplotlib inline\n",
    "import lifelines\n",
    "from lifelines.statistics import logrank_test\n",
    "from lifelines.statistics import multivariate_logrank_test\n",
    "pd.options.mode.chained_assignment = None"
   ]
  },
  {
   "cell_type": "markdown",
   "metadata": {},
   "source": [
    "## 2. Data Prepocessing"
   ]
  },
  {
   "cell_type": "code",
   "execution_count": 3,
   "metadata": {},
   "outputs": [],
   "source": [
    "# load data\n",
    "covid = pd.read_csv('covid19_data_22022021.csv',\n",
    "                     dtype=dict(sex='category',\n",
    "                                age='string',\n",
    "                                city='category',\n",
    "                                province='category',\n",
    "                                country='category',\n",
    "                                geo_resolution='category',\n",
    "                                date_onset_symptoms='category',\n",
    "                                date_admission_hospital='category',\n",
    "                                symptoms='string',\n",
    "                                additional_information='string',\n",
    "                                date_death_or_discharge='category',\n",
    "                                travel_history_dates='string',\n",
    "                                notes_for_discussion='string',\n",
    "                                latitude=float,\n",
    "                                longitude=float,\n",
    "                                lives_in_Wuhan='category',\n",
    "                                travel_history_location='category',\n",
    "                                reported_market_exposure='category',\n",
    "                                chronic_disease_binary='category',\n",
    "                                chronic_disease='category',\n",
    "                                source='category',\n",
    "                                sequence_available='category',\n",
    "                                outcome='category',\n",
    "                                #sequence_available=bool,\n",
    "                                location='category',\n",
    "                                admin3='category',\n",
    "                                admin2='category',\n",
    "                                admin1='category',\n",
    "                                country_new='category',\n",
    "                                travel_history_binary='category',\n",
    "                                data_moderator_initials='category'\n",
    "                                ),)"
   ]
  },
  {
   "cell_type": "code",
   "execution_count": 4,
   "metadata": {},
   "outputs": [
    {
     "data": {
      "text/html": [
       "<style  type=\"text/css\" >\n",
       "</style><table id=\"T_6fa04_\" ><thead>    <tr>        <th class=\"blank level0\" ></th>        <th class=\"col_heading level0 col0\" >ID</th>        <th class=\"col_heading level0 col1\" >age</th>        <th class=\"col_heading level0 col2\" >sex</th>        <th class=\"col_heading level0 col3\" >city</th>        <th class=\"col_heading level0 col4\" >province</th>        <th class=\"col_heading level0 col5\" >country</th>        <th class=\"col_heading level0 col6\" >latitude</th>        <th class=\"col_heading level0 col7\" >longitude</th>        <th class=\"col_heading level0 col8\" >geo_resolution</th>        <th class=\"col_heading level0 col9\" >date_onset_symptoms</th>        <th class=\"col_heading level0 col10\" >date_admission_hospital</th>        <th class=\"col_heading level0 col11\" >date_confirmation</th>        <th class=\"col_heading level0 col12\" >symptoms</th>        <th class=\"col_heading level0 col13\" >lives_in_Wuhan</th>        <th class=\"col_heading level0 col14\" >travel_history_dates</th>        <th class=\"col_heading level0 col15\" >travel_history_location</th>        <th class=\"col_heading level0 col16\" >reported_market_exposure</th>        <th class=\"col_heading level0 col17\" >additional_information</th>        <th class=\"col_heading level0 col18\" >chronic_disease_binary</th>        <th class=\"col_heading level0 col19\" >chronic_disease</th>        <th class=\"col_heading level0 col20\" >source</th>        <th class=\"col_heading level0 col21\" >sequence_available</th>        <th class=\"col_heading level0 col22\" >outcome</th>        <th class=\"col_heading level0 col23\" >date_death_or_discharge</th>        <th class=\"col_heading level0 col24\" >notes_for_discussion</th>        <th class=\"col_heading level0 col25\" >location</th>        <th class=\"col_heading level0 col26\" >admin3</th>        <th class=\"col_heading level0 col27\" >admin2</th>        <th class=\"col_heading level0 col28\" >admin1</th>        <th class=\"col_heading level0 col29\" >country_new</th>        <th class=\"col_heading level0 col30\" >admin_id</th>        <th class=\"col_heading level0 col31\" >data_moderator_initials</th>        <th class=\"col_heading level0 col32\" >travel_history_binary</th>    </tr></thead><tbody>\n",
       "                <tr>\n",
       "                        <th id=\"T_6fa04_level0_row0\" class=\"row_heading level0 row0\" >0</th>\n",
       "                        <td id=\"T_6fa04_row0_col0\" class=\"data row0 col0\" >000-1-10</td>\n",
       "                        <td id=\"T_6fa04_row0_col1\" class=\"data row0 col1\" >78</td>\n",
       "                        <td id=\"T_6fa04_row0_col2\" class=\"data row0 col2\" >male</td>\n",
       "                        <td id=\"T_6fa04_row0_col3\" class=\"data row0 col3\" >Vo Euganeo</td>\n",
       "                        <td id=\"T_6fa04_row0_col4\" class=\"data row0 col4\" >Veneto</td>\n",
       "                        <td id=\"T_6fa04_row0_col5\" class=\"data row0 col5\" >Italy</td>\n",
       "                        <td id=\"T_6fa04_row0_col6\" class=\"data row0 col6\" >45.297748</td>\n",
       "                        <td id=\"T_6fa04_row0_col7\" class=\"data row0 col7\" >11.658382</td>\n",
       "                        <td id=\"T_6fa04_row0_col8\" class=\"data row0 col8\" >point</td>\n",
       "                        <td id=\"T_6fa04_row0_col9\" class=\"data row0 col9\" >nan</td>\n",
       "                        <td id=\"T_6fa04_row0_col10\" class=\"data row0 col10\" >nan</td>\n",
       "                        <td id=\"T_6fa04_row0_col11\" class=\"data row0 col11\" >21.02.2020</td>\n",
       "                        <td id=\"T_6fa04_row0_col12\" class=\"data row0 col12\" ><NA></td>\n",
       "                        <td id=\"T_6fa04_row0_col13\" class=\"data row0 col13\" >nan</td>\n",
       "                        <td id=\"T_6fa04_row0_col14\" class=\"data row0 col14\" ><NA></td>\n",
       "                        <td id=\"T_6fa04_row0_col15\" class=\"data row0 col15\" >nan</td>\n",
       "                        <td id=\"T_6fa04_row0_col16\" class=\"data row0 col16\" >nan</td>\n",
       "                        <td id=\"T_6fa04_row0_col17\" class=\"data row0 col17\" >Hospitalized on 12.02.2020 for other reasons</td>\n",
       "                        <td id=\"T_6fa04_row0_col18\" class=\"data row0 col18\" >False</td>\n",
       "                        <td id=\"T_6fa04_row0_col19\" class=\"data row0 col19\" >nan</td>\n",
       "                        <td id=\"T_6fa04_row0_col20\" class=\"data row0 col20\" >https://www.corriere.it/cronache/20_febbraio_21/coronavirus-italia-cosa-sappiamo-casi-codogno-lombardia-27fa736c-548b-11ea-9196-da7d305401b7.shtml</td>\n",
       "                        <td id=\"T_6fa04_row0_col21\" class=\"data row0 col21\" >nan</td>\n",
       "                        <td id=\"T_6fa04_row0_col22\" class=\"data row0 col22\" >death</td>\n",
       "                        <td id=\"T_6fa04_row0_col23\" class=\"data row0 col23\" >22.02.2020</td>\n",
       "                        <td id=\"T_6fa04_row0_col24\" class=\"data row0 col24\" ><NA></td>\n",
       "                        <td id=\"T_6fa04_row0_col25\" class=\"data row0 col25\" >Vo' Euganeo</td>\n",
       "                        <td id=\"T_6fa04_row0_col26\" class=\"data row0 col26\" >nan</td>\n",
       "                        <td id=\"T_6fa04_row0_col27\" class=\"data row0 col27\" >nan</td>\n",
       "                        <td id=\"T_6fa04_row0_col28\" class=\"data row0 col28\" >Veneto</td>\n",
       "                        <td id=\"T_6fa04_row0_col29\" class=\"data row0 col29\" >Italy</td>\n",
       "                        <td id=\"T_6fa04_row0_col30\" class=\"data row0 col30\" >8954.000000</td>\n",
       "                        <td id=\"T_6fa04_row0_col31\" class=\"data row0 col31\" >nan</td>\n",
       "                        <td id=\"T_6fa04_row0_col32\" class=\"data row0 col32\" >nan</td>\n",
       "            </tr>\n",
       "            <tr>\n",
       "                        <th id=\"T_6fa04_level0_row1\" class=\"row_heading level0 row1\" >1</th>\n",
       "                        <td id=\"T_6fa04_row1_col0\" class=\"data row1 col0\" >000-1-100</td>\n",
       "                        <td id=\"T_6fa04_row1_col1\" class=\"data row1 col1\" >61</td>\n",
       "                        <td id=\"T_6fa04_row1_col2\" class=\"data row1 col2\" >female</td>\n",
       "                        <td id=\"T_6fa04_row1_col3\" class=\"data row1 col3\" >nan</td>\n",
       "                        <td id=\"T_6fa04_row1_col4\" class=\"data row1 col4\" >nan</td>\n",
       "                        <td id=\"T_6fa04_row1_col5\" class=\"data row1 col5\" >Singapore</td>\n",
       "                        <td id=\"T_6fa04_row1_col6\" class=\"data row1 col6\" >1.353460</td>\n",
       "                        <td id=\"T_6fa04_row1_col7\" class=\"data row1 col7\" >103.815100</td>\n",
       "                        <td id=\"T_6fa04_row1_col8\" class=\"data row1 col8\" >admin0</td>\n",
       "                        <td id=\"T_6fa04_row1_col9\" class=\"data row1 col9\" >nan</td>\n",
       "                        <td id=\"T_6fa04_row1_col10\" class=\"data row1 col10\" >nan</td>\n",
       "                        <td id=\"T_6fa04_row1_col11\" class=\"data row1 col11\" >14.02.2020</td>\n",
       "                        <td id=\"T_6fa04_row1_col12\" class=\"data row1 col12\" ><NA></td>\n",
       "                        <td id=\"T_6fa04_row1_col13\" class=\"data row1 col13\" >nan</td>\n",
       "                        <td id=\"T_6fa04_row1_col14\" class=\"data row1 col14\" ><NA></td>\n",
       "                        <td id=\"T_6fa04_row1_col15\" class=\"data row1 col15\" >nan</td>\n",
       "                        <td id=\"T_6fa04_row1_col16\" class=\"data row1 col16\" >nan</td>\n",
       "                        <td id=\"T_6fa04_row1_col17\" class=\"data row1 col17\" >Case 65; family member of Case 50, a DBS employee, as is Case 55</td>\n",
       "                        <td id=\"T_6fa04_row1_col18\" class=\"data row1 col18\" >False</td>\n",
       "                        <td id=\"T_6fa04_row1_col19\" class=\"data row1 col19\" >nan</td>\n",
       "                        <td id=\"T_6fa04_row1_col20\" class=\"data row1 col20\" >https://www.channelnewsasia.com/news/singapore/coronavirus-covid-19-singapore-cases-grace-assembly-of-god--12434646\n",
       "https://bnonews.com/wp-content/uploads/2020/02/2172020Cases.pdf</td>\n",
       "                        <td id=\"T_6fa04_row1_col21\" class=\"data row1 col21\" >nan</td>\n",
       "                        <td id=\"T_6fa04_row1_col22\" class=\"data row1 col22\" >discharge</td>\n",
       "                        <td id=\"T_6fa04_row1_col23\" class=\"data row1 col23\" >17.02.2020</td>\n",
       "                        <td id=\"T_6fa04_row1_col24\" class=\"data row1 col24\" ><NA></td>\n",
       "                        <td id=\"T_6fa04_row1_col25\" class=\"data row1 col25\" >nan</td>\n",
       "                        <td id=\"T_6fa04_row1_col26\" class=\"data row1 col26\" >nan</td>\n",
       "                        <td id=\"T_6fa04_row1_col27\" class=\"data row1 col27\" >nan</td>\n",
       "                        <td id=\"T_6fa04_row1_col28\" class=\"data row1 col28\" >nan</td>\n",
       "                        <td id=\"T_6fa04_row1_col29\" class=\"data row1 col29\" >Singapore</td>\n",
       "                        <td id=\"T_6fa04_row1_col30\" class=\"data row1 col30\" >200.000000</td>\n",
       "                        <td id=\"T_6fa04_row1_col31\" class=\"data row1 col31\" >nan</td>\n",
       "                        <td id=\"T_6fa04_row1_col32\" class=\"data row1 col32\" >nan</td>\n",
       "            </tr>\n",
       "    </tbody></table>"
      ],
      "text/plain": [
       "<pandas.io.formats.style.Styler at 0x208fc7e2d60>"
      ]
     },
     "execution_count": 4,
     "metadata": {},
     "output_type": "execute_result"
    }
   ],
   "source": [
    "# display 5 data records\n",
    "covid.head(2).style"
   ]
  },
  {
   "cell_type": "code",
   "execution_count": 5,
   "metadata": {},
   "outputs": [
    {
     "data": {
      "text/plain": [
       "False    572679\n",
       "dtype: int64"
      ]
     },
     "execution_count": 5,
     "metadata": {},
     "output_type": "execute_result"
    }
   ],
   "source": [
    "# check if there are duplicated observations\n",
    "covid.duplicated().value_counts()"
   ]
  },
  {
   "cell_type": "markdown",
   "metadata": {},
   "source": [
    "There are no duplicated records."
   ]
  },
  {
   "cell_type": "code",
   "execution_count": 6,
   "metadata": {},
   "outputs": [
    {
     "data": {
      "text/plain": [
       "(572679, 33)"
      ]
     },
     "execution_count": 6,
     "metadata": {},
     "output_type": "execute_result"
    }
   ],
   "source": [
    "covid.shape"
   ]
  },
  {
   "cell_type": "markdown",
   "metadata": {},
   "source": [
    "### (a) Features Selection"
   ]
  },
  {
   "cell_type": "code",
   "execution_count": 7,
   "metadata": {},
   "outputs": [
    {
     "data": {
      "text/html": [
       "<div>\n",
       "<style scoped>\n",
       "    .dataframe tbody tr th:only-of-type {\n",
       "        vertical-align: middle;\n",
       "    }\n",
       "\n",
       "    .dataframe tbody tr th {\n",
       "        vertical-align: top;\n",
       "    }\n",
       "\n",
       "    .dataframe thead th {\n",
       "        text-align: right;\n",
       "    }\n",
       "</style>\n",
       "<table border=\"1\" class=\"dataframe\">\n",
       "  <thead>\n",
       "    <tr style=\"text-align: right;\">\n",
       "      <th></th>\n",
       "      <th>age</th>\n",
       "      <th>sex</th>\n",
       "      <th>date_confirmation</th>\n",
       "      <th>chronic_disease_binary</th>\n",
       "      <th>date_death_or_discharge</th>\n",
       "      <th>outcome</th>\n",
       "    </tr>\n",
       "  </thead>\n",
       "  <tbody>\n",
       "    <tr>\n",
       "      <th>0</th>\n",
       "      <td>78</td>\n",
       "      <td>male</td>\n",
       "      <td>21.02.2020</td>\n",
       "      <td>False</td>\n",
       "      <td>22.02.2020</td>\n",
       "      <td>death</td>\n",
       "    </tr>\n",
       "    <tr>\n",
       "      <th>1</th>\n",
       "      <td>61</td>\n",
       "      <td>female</td>\n",
       "      <td>14.02.2020</td>\n",
       "      <td>False</td>\n",
       "      <td>17.02.2020</td>\n",
       "      <td>discharge</td>\n",
       "    </tr>\n",
       "  </tbody>\n",
       "</table>\n",
       "</div>"
      ],
      "text/plain": [
       "  age     sex date_confirmation chronic_disease_binary  \\\n",
       "0  78    male        21.02.2020                  False   \n",
       "1  61  female        14.02.2020                  False   \n",
       "\n",
       "  date_death_or_discharge    outcome  \n",
       "0              22.02.2020      death  \n",
       "1              17.02.2020  discharge  "
      ]
     },
     "execution_count": 7,
     "metadata": {},
     "output_type": "execute_result"
    }
   ],
   "source": [
    "cols = ['age','sex','date_confirmation','chronic_disease_binary','date_death_or_discharge','outcome']\n",
    "data = covid[cols]\n",
    "\n",
    "# display data\n",
    "data.head(2)"
   ]
  },
  {
   "cell_type": "code",
   "execution_count": 8,
   "metadata": {},
   "outputs": [
    {
     "name": "stdout",
     "output_type": "stream",
     "text": [
      "Chosen data has 572679 observations and 6 features\n"
     ]
    }
   ],
   "source": [
    "dim = data.shape\n",
    "print('Chosen data has {} observations and {} features'.format(dim[0], dim[1]))"
   ]
  },
  {
   "cell_type": "code",
   "execution_count": 9,
   "metadata": {},
   "outputs": [
    {
     "name": "stdout",
     "output_type": "stream",
     "text": [
      "<class 'pandas.core.frame.DataFrame'>\n",
      "RangeIndex: 572679 entries, 0 to 572678\n",
      "Data columns (total 6 columns):\n",
      " #   Column                   Non-Null Count   Dtype   \n",
      "---  ------                   --------------   -----   \n",
      " 0   age                      572679 non-null  string  \n",
      " 1   sex                      572679 non-null  category\n",
      " 2   date_confirmation        572410 non-null  object  \n",
      " 3   chronic_disease_binary   572679 non-null  category\n",
      " 4   date_death_or_discharge  3094 non-null    category\n",
      " 5   outcome                  33601 non-null   category\n",
      "dtypes: category(4), object(1), string(1)\n",
      "memory usage: 11.5+ MB\n"
     ]
    }
   ],
   "source": [
    "# check if the columns are in their right data types\n",
    "data.info()"
   ]
  },
  {
   "cell_type": "code",
   "execution_count": 10,
   "metadata": {},
   "outputs": [
    {
     "data": {
      "text/plain": [
       "age                             0\n",
       "sex                             0\n",
       "date_confirmation             269\n",
       "chronic_disease_binary          0\n",
       "date_death_or_discharge    569585\n",
       "outcome                    539078\n",
       "dtype: int64"
      ]
     },
     "execution_count": 10,
     "metadata": {},
     "output_type": "execute_result"
    }
   ],
   "source": [
    "data.isnull().sum()"
   ]
  },
  {
   "cell_type": "markdown",
   "metadata": {},
   "source": [
    "There are high amount of truncated cases."
   ]
  },
  {
   "cell_type": "markdown",
   "metadata": {},
   "source": [
    "**Confirmation Date**"
   ]
  },
  {
   "cell_type": "code",
   "execution_count": 11,
   "metadata": {},
   "outputs": [
    {
     "data": {
      "text/plain": [
       "False    572674\n",
       "True          5\n",
       "Name: date_confirmation, dtype: int64"
      ]
     },
     "execution_count": 11,
     "metadata": {},
     "output_type": "execute_result"
    }
   ],
   "source": [
    "# date_confirmation is in the wrong format. There are also typos, the date is not a single date but a range\n",
    "(data['date_confirmation'] == '25.02.2020 - 26.02.2020').value_counts()"
   ]
  },
  {
   "cell_type": "code",
   "execution_count": 12,
   "metadata": {},
   "outputs": [],
   "source": [
    "# replace these with 25.02.2020\n",
    "data.loc[(data['date_confirmation'] == '25.02.2020 - 26.02.2020'),'date_confirmation'] = '25.02.2020'"
   ]
  },
  {
   "cell_type": "markdown",
   "metadata": {},
   "source": [
    "The right data type will be converted later when missing data is filled."
   ]
  },
  {
   "cell_type": "code",
   "execution_count": 13,
   "metadata": {},
   "outputs": [],
   "source": [
    "# verify the time data after changes\n",
    "# set(data['date_confirmation'])"
   ]
  },
  {
   "cell_type": "markdown",
   "metadata": {},
   "source": [
    "**Age**"
   ]
  },
  {
   "cell_type": "code",
   "execution_count": 14,
   "metadata": {},
   "outputs": [
    {
     "data": {
      "text/html": [
       "<div>\n",
       "<style scoped>\n",
       "    .dataframe tbody tr th:only-of-type {\n",
       "        vertical-align: middle;\n",
       "    }\n",
       "\n",
       "    .dataframe tbody tr th {\n",
       "        vertical-align: top;\n",
       "    }\n",
       "\n",
       "    .dataframe thead th {\n",
       "        text-align: right;\n",
       "    }\n",
       "</style>\n",
       "<table border=\"1\" class=\"dataframe\">\n",
       "  <thead>\n",
       "    <tr style=\"text-align: right;\">\n",
       "      <th></th>\n",
       "      <th>age</th>\n",
       "    </tr>\n",
       "  </thead>\n",
       "  <tbody>\n",
       "    <tr>\n",
       "      <th>35-59</th>\n",
       "      <td>72589</td>\n",
       "    </tr>\n",
       "    <tr>\n",
       "      <th>15-34</th>\n",
       "      <td>44385</td>\n",
       "    </tr>\n",
       "    <tr>\n",
       "      <th>60-79</th>\n",
       "      <td>33026</td>\n",
       "    </tr>\n",
       "    <tr>\n",
       "      <th>80+</th>\n",
       "      <td>20172</td>\n",
       "    </tr>\n",
       "    <tr>\n",
       "      <th>80-89</th>\n",
       "      <td>11441</td>\n",
       "    </tr>\n",
       "    <tr>\n",
       "      <th>...</th>\n",
       "      <td>...</td>\n",
       "    </tr>\n",
       "    <tr>\n",
       "      <th>7 months</th>\n",
       "      <td>1</td>\n",
       "    </tr>\n",
       "    <tr>\n",
       "      <th>54.9</th>\n",
       "      <td>1</td>\n",
       "    </tr>\n",
       "    <tr>\n",
       "      <th>22-23</th>\n",
       "      <td>1</td>\n",
       "    </tr>\n",
       "    <tr>\n",
       "      <th>0.6</th>\n",
       "      <td>1</td>\n",
       "    </tr>\n",
       "    <tr>\n",
       "      <th>104</th>\n",
       "      <td>1</td>\n",
       "    </tr>\n",
       "  </tbody>\n",
       "</table>\n",
       "<p>349 rows × 1 columns</p>\n",
       "</div>"
      ],
      "text/plain": [
       "            age\n",
       "35-59     72589\n",
       "15-34     44385\n",
       "60-79     33026\n",
       "80+       20172\n",
       "80-89     11441\n",
       "...         ...\n",
       "7 months      1\n",
       "54.9          1\n",
       "22-23         1\n",
       "0.6           1\n",
       "104           1\n",
       "\n",
       "[349 rows x 1 columns]"
      ]
     },
     "execution_count": 14,
     "metadata": {},
     "output_type": "execute_result"
    }
   ],
   "source": [
    "# check unique values for each features\n",
    "# pd.options.display.max_rows = 500 \n",
    "pd.DataFrame(data['age'].value_counts())"
   ]
  },
  {
   "cell_type": "markdown",
   "metadata": {},
   "source": [
    "Age column has 349 unique values, ranging from months to years and year intervals. There are strings such as '+', '-', 'months'. They need removing. Only number should be kept."
   ]
  },
  {
   "cell_type": "markdown",
   "metadata": {},
   "source": [
    "**Age Groups**"
   ]
  },
  {
   "cell_type": "code",
   "execution_count": 15,
   "metadata": {},
   "outputs": [],
   "source": [
    "# remove white space in age range\n",
    "data['age'] = data['age'].str.replace(' ', '')"
   ]
  },
  {
   "cell_type": "code",
   "execution_count": 16,
   "metadata": {},
   "outputs": [],
   "source": [
    "# clean the age column, include the higher bound\n",
    "import re\n",
    "upper_age = []\n",
    "for i in data.index[:]: \n",
    "    if '-' in data.loc[i,'age']:\n",
    "        x = (data.loc[i,'age'].split('-'))[-1]\n",
    "        upper_age.append(x)\n",
    "    elif (len(data.loc[i,'age']) > 6): \n",
    "        upper_age.append('2')\n",
    "    else:\n",
    "        upper_age.append(data.loc[i,'age'])"
   ]
  },
  {
   "cell_type": "markdown",
   "metadata": {},
   "source": [
    "The upper bound of age ranges is used to categorize the age group. For example 35-59, 59 is used and it belongs to 'middle' group."
   ]
  },
  {
   "cell_type": "code",
   "execution_count": 17,
   "metadata": {},
   "outputs": [
    {
     "data": {
      "text/plain": [
       "True"
      ]
     },
     "execution_count": 17,
     "metadata": {},
     "output_type": "execute_result"
    }
   ],
   "source": [
    "# verify if all age data is converted\n",
    "len(upper_age) == data.shape[0]"
   ]
  },
  {
   "cell_type": "code",
   "execution_count": 18,
   "metadata": {},
   "outputs": [],
   "source": [
    "upper_age = [re.sub('\\D', '', i) for i in upper_age]\n",
    "for i in upper_age:\n",
    "    if i == '':\n",
    "        upper_age[upper_age.index(i)] = '1'"
   ]
  },
  {
   "cell_type": "code",
   "execution_count": 19,
   "metadata": {},
   "outputs": [],
   "source": [
    "# convert the age to float dtype\n",
    "age = [round(float(i)) for i in upper_age]"
   ]
  },
  {
   "cell_type": "code",
   "execution_count": 20,
   "metadata": {},
   "outputs": [
    {
     "data": {
      "text/plain": [
       "[78, 61, 66, 27, 17, 51, 68, 26, 30, 53]"
      ]
     },
     "execution_count": 20,
     "metadata": {},
     "output_type": "execute_result"
    }
   ],
   "source": [
    "age[:10]"
   ]
  },
  {
   "cell_type": "code",
   "execution_count": 21,
   "metadata": {},
   "outputs": [],
   "source": [
    "# category data into groups\n",
    "age_cat = []\n",
    "for i in age:\n",
    "    if (i <= 40):\n",
    "        age_cat.append('young')\n",
    "    elif (i > 40) and (i <=65):\n",
    "        age_cat.append('middle')\n",
    "    elif (i > 65):\n",
    "        age_cat.append('old')"
   ]
  },
  {
   "cell_type": "code",
   "execution_count": 22,
   "metadata": {},
   "outputs": [],
   "source": [
    "# append the age group to dataset\n",
    "data['age_cat'] = age_cat"
   ]
  },
  {
   "cell_type": "code",
   "execution_count": 23,
   "metadata": {},
   "outputs": [
    {
     "data": {
      "text/plain": [
       "(572679, 7)"
      ]
     },
     "execution_count": 23,
     "metadata": {},
     "output_type": "execute_result"
    }
   ],
   "source": [
    "data.shape"
   ]
  },
  {
   "cell_type": "code",
   "execution_count": 24,
   "metadata": {},
   "outputs": [
    {
     "data": {
      "text/plain": [
       "0       old\n",
       "1    middle\n",
       "2       old\n",
       "3     young\n",
       "4     young\n",
       "5    middle\n",
       "Name: age_cat, dtype: object"
      ]
     },
     "execution_count": 24,
     "metadata": {},
     "output_type": "execute_result"
    }
   ],
   "source": [
    "# verify the result\n",
    "data.loc[:5, 'age_cat']"
   ]
  },
  {
   "cell_type": "markdown",
   "metadata": {},
   "source": [
    "**Outcome**"
   ]
  },
  {
   "cell_type": "code",
   "execution_count": 25,
   "metadata": {},
   "outputs": [
    {
     "data": {
      "text/html": [
       "<div>\n",
       "<style scoped>\n",
       "    .dataframe tbody tr th:only-of-type {\n",
       "        vertical-align: middle;\n",
       "    }\n",
       "\n",
       "    .dataframe tbody tr th {\n",
       "        vertical-align: top;\n",
       "    }\n",
       "\n",
       "    .dataframe thead th {\n",
       "        text-align: right;\n",
       "    }\n",
       "</style>\n",
       "<table border=\"1\" class=\"dataframe\">\n",
       "  <thead>\n",
       "    <tr style=\"text-align: right;\">\n",
       "      <th></th>\n",
       "      <th>outcome</th>\n",
       "    </tr>\n",
       "  </thead>\n",
       "  <tbody>\n",
       "    <tr>\n",
       "      <th>Hospitalized</th>\n",
       "      <td>27908</td>\n",
       "    </tr>\n",
       "    <tr>\n",
       "      <th>recovered</th>\n",
       "      <td>3656</td>\n",
       "    </tr>\n",
       "    <tr>\n",
       "      <th>died</th>\n",
       "      <td>912</td>\n",
       "    </tr>\n",
       "    <tr>\n",
       "      <th>Deceased</th>\n",
       "      <td>398</td>\n",
       "    </tr>\n",
       "    <tr>\n",
       "      <th>discharge</th>\n",
       "      <td>165</td>\n",
       "    </tr>\n",
       "    <tr>\n",
       "      <th>Recovered</th>\n",
       "      <td>139</td>\n",
       "    </tr>\n",
       "    <tr>\n",
       "      <th>stable condition</th>\n",
       "      <td>109</td>\n",
       "    </tr>\n",
       "    <tr>\n",
       "      <th>discharged</th>\n",
       "      <td>92</td>\n",
       "    </tr>\n",
       "    <tr>\n",
       "      <th>stable</th>\n",
       "      <td>66</td>\n",
       "    </tr>\n",
       "    <tr>\n",
       "      <th>death</th>\n",
       "      <td>41</td>\n",
       "    </tr>\n",
       "    <tr>\n",
       "      <th>Alive</th>\n",
       "      <td>37</td>\n",
       "    </tr>\n",
       "    <tr>\n",
       "      <th>Stable</th>\n",
       "      <td>31</td>\n",
       "    </tr>\n",
       "    <tr>\n",
       "      <th>Under treatment</th>\n",
       "      <td>13</td>\n",
       "    </tr>\n",
       "    <tr>\n",
       "      <th>Dead</th>\n",
       "      <td>6</td>\n",
       "    </tr>\n",
       "    <tr>\n",
       "      <th>Died</th>\n",
       "      <td>4</td>\n",
       "    </tr>\n",
       "    <tr>\n",
       "      <th>Death</th>\n",
       "      <td>4</td>\n",
       "    </tr>\n",
       "    <tr>\n",
       "      <th>dead</th>\n",
       "      <td>3</td>\n",
       "    </tr>\n",
       "    <tr>\n",
       "      <th>Symptoms only improved with cough. Currently hospitalized for follow-up.</th>\n",
       "      <td>2</td>\n",
       "    </tr>\n",
       "    <tr>\n",
       "      <th>not hospitalized</th>\n",
       "      <td>2</td>\n",
       "    </tr>\n",
       "    <tr>\n",
       "      <th>recovering at home 03.03.2020</th>\n",
       "      <td>2</td>\n",
       "    </tr>\n",
       "    <tr>\n",
       "      <th>released from quarantine</th>\n",
       "      <td>2</td>\n",
       "    </tr>\n",
       "    <tr>\n",
       "      <th>severe</th>\n",
       "      <td>2</td>\n",
       "    </tr>\n",
       "    <tr>\n",
       "      <th>treated in an intensive care unit (14.02.2020)</th>\n",
       "      <td>2</td>\n",
       "    </tr>\n",
       "    <tr>\n",
       "      <th>Discharged</th>\n",
       "      <td>2</td>\n",
       "    </tr>\n",
       "    <tr>\n",
       "      <th>Receiving Treatment</th>\n",
       "      <td>1</td>\n",
       "    </tr>\n",
       "    <tr>\n",
       "      <th>critical condition</th>\n",
       "      <td>1</td>\n",
       "    </tr>\n",
       "    <tr>\n",
       "      <th>severe illness</th>\n",
       "      <td>1</td>\n",
       "    </tr>\n",
       "  </tbody>\n",
       "</table>\n",
       "</div>"
      ],
      "text/plain": [
       "                                                    outcome\n",
       "Hospitalized                                          27908\n",
       "recovered                                              3656\n",
       "died                                                    912\n",
       "Deceased                                                398\n",
       "discharge                                               165\n",
       "Recovered                                               139\n",
       "stable condition                                        109\n",
       "discharged                                               92\n",
       "stable                                                   66\n",
       "death                                                    41\n",
       "Alive                                                    37\n",
       "Stable                                                   31\n",
       "Under treatment                                          13\n",
       "Dead                                                      6\n",
       "Died                                                      4\n",
       "Death                                                     4\n",
       "dead                                                      3\n",
       "Symptoms only improved with cough. Currently ho...        2\n",
       "not hospitalized                                          2\n",
       "recovering at home 03.03.2020                             2\n",
       "released from quarantine                                  2\n",
       "severe                                                    2\n",
       "treated in an intensive care unit (14.02.2020)            2\n",
       "Discharged                                                2\n",
       "Receiving Treatment                                       1\n",
       "critical condition                                        1\n",
       "severe illness                                            1"
      ]
     },
     "execution_count": 25,
     "metadata": {},
     "output_type": "execute_result"
    }
   ],
   "source": [
    "pd.DataFrame(data['outcome'].value_counts())"
   ]
  },
  {
   "cell_type": "markdown",
   "metadata": {},
   "source": [
    "There are typos in the categories such as:\n",
    "- Hospitalized, Under treatment, treated in an intensive care unit(14.02.2020), Symptoms only improved with cough. Currently hospitalized for follow-up., Receiving Treatment\n",
    "- recovered, Recovered\n",
    "- discharge, discharged, released from quarantine, Discharged \n",
    "- stable condition, stable, Stable, recovering at home 03.03.2020\t\n",
    "- Alive\n",
    "- severe, critical condition, severe illness, \n",
    "- not hospitalized\n",
    "- **died, death, Dead, Died, Death, dead, Deceased --> died**\n",
    "\n",
    "The observations needs re-categorizing to dead (1) and not dead (0) only. I will create a new column is_dead."
   ]
  },
  {
   "cell_type": "code",
   "execution_count": 26,
   "metadata": {},
   "outputs": [],
   "source": [
    "outcome = data['outcome'].str.lower()\n",
    "outcome_cat = outcome.map({'dead':1,'died':1,'death':1,'deceased':1})\n",
    "# missing values due to withdraw of study \n",
    "outcome_cat.fillna(0, inplace=True)"
   ]
  },
  {
   "cell_type": "markdown",
   "metadata": {},
   "source": [
    "Create event column which indicate whether the customers died when their Covid-19 test result are positives"
   ]
  },
  {
   "cell_type": "code",
   "execution_count": 27,
   "metadata": {},
   "outputs": [],
   "source": [
    "data['is_dead'] = outcome_cat"
   ]
  },
  {
   "cell_type": "code",
   "execution_count": 28,
   "metadata": {},
   "outputs": [
    {
     "data": {
      "text/html": [
       "<div>\n",
       "<style scoped>\n",
       "    .dataframe tbody tr th:only-of-type {\n",
       "        vertical-align: middle;\n",
       "    }\n",
       "\n",
       "    .dataframe tbody tr th {\n",
       "        vertical-align: top;\n",
       "    }\n",
       "\n",
       "    .dataframe thead th {\n",
       "        text-align: right;\n",
       "    }\n",
       "</style>\n",
       "<table border=\"1\" class=\"dataframe\">\n",
       "  <thead>\n",
       "    <tr style=\"text-align: right;\">\n",
       "      <th></th>\n",
       "      <th>is_dead</th>\n",
       "    </tr>\n",
       "  </thead>\n",
       "  <tbody>\n",
       "    <tr>\n",
       "      <th>0.0</th>\n",
       "      <td>571311</td>\n",
       "    </tr>\n",
       "    <tr>\n",
       "      <th>1.0</th>\n",
       "      <td>1368</td>\n",
       "    </tr>\n",
       "  </tbody>\n",
       "</table>\n",
       "</div>"
      ],
      "text/plain": [
       "     is_dead\n",
       "0.0   571311\n",
       "1.0     1368"
      ]
     },
     "execution_count": 28,
     "metadata": {},
     "output_type": "execute_result"
    }
   ],
   "source": [
    "pd.DataFrame(data['is_dead'].value_counts())"
   ]
  },
  {
   "cell_type": "markdown",
   "metadata": {},
   "source": [
    "The number of death is 1368."
   ]
  },
  {
   "cell_type": "markdown",
   "metadata": {},
   "source": [
    "**Missing Dates**"
   ]
  },
  {
   "cell_type": "code",
   "execution_count": 29,
   "metadata": {},
   "outputs": [
    {
     "data": {
      "text/plain": [
       "count         572410\n",
       "unique           152\n",
       "top       09.04.2020\n",
       "freq           12192\n",
       "Name: date_confirmation, dtype: object"
      ]
     },
     "execution_count": 29,
     "metadata": {},
     "output_type": "execute_result"
    }
   ],
   "source": [
    "# statistics about confirmation date\n",
    "data['date_confirmation'].describe(include='all', datetime_is_numeric=True)"
   ]
  },
  {
   "cell_type": "code",
   "execution_count": 30,
   "metadata": {},
   "outputs": [
    {
     "data": {
      "text/plain": [
       "count           3094\n",
       "unique           143\n",
       "top       22.05.2020\n",
       "freq              55\n",
       "Name: date_death_or_discharge, dtype: object"
      ]
     },
     "execution_count": 30,
     "metadata": {},
     "output_type": "execute_result"
    }
   ],
   "source": [
    "# statistics about dead or discharge date\n",
    "data['date_death_or_discharge'].describe(include='all', datetime_is_numeric=True)"
   ]
  },
  {
   "cell_type": "markdown",
   "metadata": {},
   "source": [
    "569585 censoring cases (the event of interest has not occurred until the date on which we downloaded for the analysis) --> Fill these cases with 22.02.2021."
   ]
  },
  {
   "cell_type": "code",
   "execution_count": 32,
   "metadata": {},
   "outputs": [],
   "source": [
    "# fill censoring cases\n",
    "data['date_death_or_discharge'] = data['date_death_or_discharge'].cat.add_categories('22.02.2021')\n",
    "data['date_death_or_discharge'] = data['date_death_or_discharge'].fillna('22.02.2021')\n",
    "data['date_confirmation'] = data['date_confirmation'].fillna('22.02.2021')"
   ]
  },
  {
   "cell_type": "code",
   "execution_count": 33,
   "metadata": {},
   "outputs": [],
   "source": [
    "# change date_confirmation from object to datetime\n",
    "data['date_confirmation'] = pd.to_datetime(data['date_confirmation'])\n",
    "data['date_death_or_discharge'] = pd.to_datetime(data['date_death_or_discharge'])"
   ]
  },
  {
   "cell_type": "code",
   "execution_count": 34,
   "metadata": {},
   "outputs": [
    {
     "name": "stdout",
     "output_type": "stream",
     "text": [
      "<class 'pandas.core.frame.DataFrame'>\n",
      "RangeIndex: 572679 entries, 0 to 572678\n",
      "Data columns (total 8 columns):\n",
      " #   Column                   Non-Null Count   Dtype         \n",
      "---  ------                   --------------   -----         \n",
      " 0   age                      572679 non-null  string        \n",
      " 1   sex                      572679 non-null  category      \n",
      " 2   date_confirmation        572679 non-null  datetime64[ns]\n",
      " 3   chronic_disease_binary   572679 non-null  category      \n",
      " 4   date_death_or_discharge  572679 non-null  datetime64[ns]\n",
      " 5   outcome                  33601 non-null   category      \n",
      " 6   age_cat                  572679 non-null  object        \n",
      " 7   is_dead                  572679 non-null  float64       \n",
      "dtypes: category(3), datetime64[ns](2), float64(1), object(1), string(1)\n",
      "memory usage: 23.5+ MB\n"
     ]
    }
   ],
   "source": [
    "# verify the data after cleaning\n",
    "data.info()"
   ]
  },
  {
   "cell_type": "markdown",
   "metadata": {},
   "source": [
    "**Survival Time**"
   ]
  },
  {
   "cell_type": "code",
   "execution_count": 35,
   "metadata": {},
   "outputs": [],
   "source": [
    "# create survival_time column\n",
    "survival_time = (data['date_death_or_discharge'] - data['date_confirmation']).abs()\n",
    "\n",
    "# eliminate 'days' out of the survival_time\n",
    "survival_days = survival_time.dt.days"
   ]
  },
  {
   "cell_type": "code",
   "execution_count": 36,
   "metadata": {},
   "outputs": [],
   "source": [
    "# create new column on survival_duration\n",
    "data['survival_duration'] = survival_days"
   ]
  },
  {
   "cell_type": "code",
   "execution_count": 37,
   "metadata": {},
   "outputs": [
    {
     "data": {
      "text/html": [
       "<div>\n",
       "<style scoped>\n",
       "    .dataframe tbody tr th:only-of-type {\n",
       "        vertical-align: middle;\n",
       "    }\n",
       "\n",
       "    .dataframe tbody tr th {\n",
       "        vertical-align: top;\n",
       "    }\n",
       "\n",
       "    .dataframe thead th {\n",
       "        text-align: right;\n",
       "    }\n",
       "</style>\n",
       "<table border=\"1\" class=\"dataframe\">\n",
       "  <thead>\n",
       "    <tr style=\"text-align: right;\">\n",
       "      <th></th>\n",
       "      <th>is_dead</th>\n",
       "      <th>survival_duration</th>\n",
       "    </tr>\n",
       "  </thead>\n",
       "  <tbody>\n",
       "    <tr>\n",
       "      <th>count</th>\n",
       "      <td>572679.000000</td>\n",
       "      <td>572679.000000</td>\n",
       "    </tr>\n",
       "    <tr>\n",
       "      <th>mean</th>\n",
       "      <td>0.002389</td>\n",
       "      <td>281.961378</td>\n",
       "    </tr>\n",
       "    <tr>\n",
       "      <th>std</th>\n",
       "      <td>0.048817</td>\n",
       "      <td>73.611516</td>\n",
       "    </tr>\n",
       "    <tr>\n",
       "      <th>min</th>\n",
       "      <td>0.000000</td>\n",
       "      <td>0.000000</td>\n",
       "    </tr>\n",
       "    <tr>\n",
       "      <th>25%</th>\n",
       "      <td>0.000000</td>\n",
       "      <td>269.000000</td>\n",
       "    </tr>\n",
       "    <tr>\n",
       "      <th>50%</th>\n",
       "      <td>0.000000</td>\n",
       "      <td>293.000000</td>\n",
       "    </tr>\n",
       "    <tr>\n",
       "      <th>75%</th>\n",
       "      <td>0.000000</td>\n",
       "      <td>330.000000</td>\n",
       "    </tr>\n",
       "    <tr>\n",
       "      <th>max</th>\n",
       "      <td>1.000000</td>\n",
       "      <td>417.000000</td>\n",
       "    </tr>\n",
       "  </tbody>\n",
       "</table>\n",
       "</div>"
      ],
      "text/plain": [
       "             is_dead  survival_duration\n",
       "count  572679.000000      572679.000000\n",
       "mean        0.002389         281.961378\n",
       "std         0.048817          73.611516\n",
       "min         0.000000           0.000000\n",
       "25%         0.000000         269.000000\n",
       "50%         0.000000         293.000000\n",
       "75%         0.000000         330.000000\n",
       "max         1.000000         417.000000"
      ]
     },
     "execution_count": 37,
     "metadata": {},
     "output_type": "execute_result"
    }
   ],
   "source": [
    "data.describe()"
   ]
  },
  {
   "cell_type": "markdown",
   "metadata": {},
   "source": [
    "The information for time-to-event\n",
    "\n",
    "\n",
    "|  Information| Time-to-Event  |  \n",
    "|:---|:---|\n",
    "|  Event| Customer died |  \n",
    "|  Time origin| Date Confirmation |  \n",
    "|  Time scale|  Days |"
   ]
  },
  {
   "cell_type": "markdown",
   "metadata": {},
   "source": [
    "## 3. Data Exploratory"
   ]
  },
  {
   "cell_type": "code",
   "execution_count": 38,
   "metadata": {},
   "outputs": [],
   "source": [
    "viz = data[data['is_dead'] == 1].copy()"
   ]
  },
  {
   "cell_type": "code",
   "execution_count": 39,
   "metadata": {},
   "outputs": [
    {
     "data": {
      "image/png": "[encoded data removed]",
      "text/plain": [
       "<Figure size 432x360 with 1 Axes>"
      ]
     },
     "metadata": {
      "needs_background": "light"
     },
     "output_type": "display_data"
    }
   ],
   "source": [
    "# visualize age groups \n",
    "ax = data.groupby(['age_cat','is_dead'])['is_dead'].count().groupby(level=0).apply(\n",
    "                    lambda x: 100*x / x.sum()).unstack().plot.bar(stacked=True, ax=plt.gca(), width=0.3, figsize=(6,5))\n",
    "plt.title('Age Group Distribution')\n",
    "plt.legend(['Survived','Died'],bbox_to_anchor=(1,1))\n",
    "ax.set_xticklabels(['Middle','Old','Young'],rotation=0)\n",
    "plt.xlabel('')\n",
    "ax.spines['top'].set_visible(False)\n",
    "ax.spines['right'].set_visible(False)\n",
    "for p, q in zip(ax.patches[0:3], ax.patches[3:6]):\n",
    "    ax.annotate(str(round(p.get_height(),1)) + '%', (p.get_x()+0.08, p.get_height()/2))\n",
    "    ax.annotate(str(round(q.get_height(),1)) + '%', (q.get_x()+0.08, q.get_height()/2+p.get_height()))"
   ]
  },
  {
   "cell_type": "code",
   "execution_count": 40,
   "metadata": {},
   "outputs": [
    {
     "data": {
      "image/png": "[encoded data removed]",
      "text/plain": [
       "<Figure size 720x432 with 1 Axes>"
      ]
     },
     "metadata": {},
     "output_type": "display_data"
    }
   ],
   "source": [
    "ax = data['age_cat'].value_counts().plot.pie(autopct='%1.0f%%',figsize = (10,6));"
   ]
  },
  {
   "cell_type": "code",
   "execution_count": 41,
   "metadata": {
    "scrolled": true,
    "tags": []
   },
   "outputs": [
    {
     "data": {
      "image/png": "[encoded data removed]",
      "text/plain": [
       "<Figure size 720x432 with 1 Axes>"
      ]
     },
     "metadata": {},
     "output_type": "display_data"
    }
   ],
   "source": [
    "ax = viz['age_cat'].value_counts().plot.pie(autopct='%1.0f%%',figsize = (10,6),colors=['green','#ff7f0e','#1f77b4'],counterclock=False);"
   ]
  },
  {
   "cell_type": "markdown",
   "metadata": {},
   "source": [
    "Elderly people are accounted only 21% of the dataset but 46% dead cases are in this age group. "
   ]
  },
  {
   "cell_type": "code",
   "execution_count": 42,
   "metadata": {
    "tags": []
   },
   "outputs": [
    {
     "data": {
      "image/png": "[encoded data removed]",
      "text/plain": [
       "<Figure size 720x432 with 1 Axes>"
      ]
     },
     "metadata": {
      "needs_background": "light"
     },
     "output_type": "display_data"
    }
   ],
   "source": [
    "# old people and dead cases relation\n",
    "ax = viz['survival_duration'].plot.hist(bins=14, alpha=0.9, label='All Deaths', figsize = (10,6), color='lightseagreen')\n",
    "ax = viz['survival_duration'].loc[viz['age_cat'] =='old'].plot.hist(bins=9, label='Old People Deaths', figsize = (10,6), color='green')\n",
    "ax.set_xlabel('days')\n",
    "ax.set_title('Survival Time Distribution')\n",
    "ax.legend()\n",
    "ax.spines['top'].set_visible(False)\n",
    "ax.spines['right'].set_visible(False);"
   ]
  },
  {
   "cell_type": "markdown",
   "metadata": {},
   "source": [
    " Most people died a month after received the positive test results. Very few cases lived more than 100 days."
   ]
  },
  {
   "cell_type": "code",
   "execution_count": 43,
   "metadata": {},
   "outputs": [
    {
     "data": {
      "image/png": "[encoded data removed]",
      "text/plain": [
       "<Figure size 360x216 with 1 Axes>"
      ]
     },
     "metadata": {
      "needs_background": "light"
     },
     "output_type": "display_data"
    }
   ],
   "source": [
    "# visualize age groups \n",
    "ax = data.groupby(['chronic_disease_binary','is_dead'])['is_dead'].count().groupby(level=0).apply(\n",
    "                    lambda x: 100*x / x.sum()).unstack().plot.barh(stacked=True, ax=plt.gca(), figsize=(5,3))\n",
    "plt.title('Relative Distribution')\n",
    "plt.legend(['Survived','Died'],bbox_to_anchor=(1,1))\n",
    "plt.ylabel('Chronic Disease')\n",
    "plt.xlabel('%');"
   ]
  },
  {
   "cell_type": "markdown",
   "metadata": {},
   "source": [
    "## 4. Survival Analysis"
   ]
  },
  {
   "cell_type": "markdown",
   "metadata": {},
   "source": [
    "### (f) Kaplan-Meier estimator"
   ]
  },
  {
   "cell_type": "code",
   "execution_count": 44,
   "metadata": {},
   "outputs": [
    {
     "data": {
      "image/png": "[encoded data removed]",
      "text/plain": [
       "<Figure size 720x432 with 2 Axes>"
      ]
     },
     "metadata": {
      "needs_background": "light"
     },
     "output_type": "display_data"
    }
   ],
   "source": [
    "# fit kmf to the dataset\n",
    "# weeks = (data['survival_duration'] / 7).round().values\n",
    "# months = (data['survival_duration'] / 30).round().values\n",
    "\n",
    "days = data['survival_duration'].values\n",
    "dead = data['is_dead'].values\n",
    "kmf = lifelines.KaplanMeierFitter()\n",
    "kmf.fit(days, event_observed=dead, label='Estimate for Covid-19 Survival')\n",
    "\n",
    "# plotting kmf curve\n",
    "fig, ax = plt.subplots(figsize=(10,6))\n",
    "kmf.plot(ax=ax,show_censors=True,censor_styles={'ms': 3,'marker':'s'},at_risk_counts=True)\n",
    "ax.set_title('\\nKaplan-Meier Survival Curve\\n')\n",
    "ax.set_xlabel('Survival Time (Days)')\n",
    "ax.set_ylabel('Covid-19 Survival Chance (%)')\n",
    "ax.spines['top'].set_visible(False)\n",
    "ax.spines['right'].set_visible(False);"
   ]
  },
  {
   "cell_type": "markdown",
   "metadata": {},
   "source": [
    "99% of the customers survived more than 400 days. "
   ]
  },
  {
   "cell_type": "code",
   "execution_count": 45,
   "metadata": {},
   "outputs": [
    {
     "data": {
      "text/html": [
       "<div>\n",
       "<style scoped>\n",
       "    .dataframe tbody tr th:only-of-type {\n",
       "        vertical-align: middle;\n",
       "    }\n",
       "\n",
       "    .dataframe tbody tr th {\n",
       "        vertical-align: top;\n",
       "    }\n",
       "\n",
       "    .dataframe thead th {\n",
       "        text-align: right;\n",
       "    }\n",
       "</style>\n",
       "<table border=\"1\" class=\"dataframe\">\n",
       "  <thead>\n",
       "    <tr style=\"text-align: right;\">\n",
       "      <th></th>\n",
       "      <th>removed</th>\n",
       "      <th>observed</th>\n",
       "      <th>censored</th>\n",
       "      <th>entrance</th>\n",
       "      <th>at_risk</th>\n",
       "    </tr>\n",
       "    <tr>\n",
       "      <th>event_at</th>\n",
       "      <th></th>\n",
       "      <th></th>\n",
       "      <th></th>\n",
       "      <th></th>\n",
       "      <th></th>\n",
       "    </tr>\n",
       "  </thead>\n",
       "  <tbody>\n",
       "    <tr>\n",
       "      <th>0</th>\n",
       "      <td>505</td>\n",
       "      <td>54</td>\n",
       "      <td>451</td>\n",
       "      <td>572679</td>\n",
       "      <td>572679</td>\n",
       "    </tr>\n",
       "    <tr>\n",
       "      <th>1</th>\n",
       "      <td>189</td>\n",
       "      <td>62</td>\n",
       "      <td>127</td>\n",
       "      <td>0</td>\n",
       "      <td>572174</td>\n",
       "    </tr>\n",
       "    <tr>\n",
       "      <th>2</th>\n",
       "      <td>147</td>\n",
       "      <td>47</td>\n",
       "      <td>100</td>\n",
       "      <td>0</td>\n",
       "      <td>571985</td>\n",
       "    </tr>\n",
       "    <tr>\n",
       "      <th>3</th>\n",
       "      <td>103</td>\n",
       "      <td>24</td>\n",
       "      <td>79</td>\n",
       "      <td>0</td>\n",
       "      <td>571838</td>\n",
       "    </tr>\n",
       "    <tr>\n",
       "      <th>4</th>\n",
       "      <td>102</td>\n",
       "      <td>30</td>\n",
       "      <td>72</td>\n",
       "      <td>0</td>\n",
       "      <td>571735</td>\n",
       "    </tr>\n",
       "  </tbody>\n",
       "</table>\n",
       "</div>"
      ],
      "text/plain": [
       "          removed  observed  censored  entrance  at_risk\n",
       "event_at                                                \n",
       "0             505        54       451    572679   572679\n",
       "1             189        62       127         0   572174\n",
       "2             147        47       100         0   571985\n",
       "3             103        24        79         0   571838\n",
       "4             102        30        72         0   571735"
      ]
     },
     "execution_count": 45,
     "metadata": {},
     "output_type": "execute_result"
    }
   ],
   "source": [
    "# lifetable \n",
    "kmf.event_table.head()"
   ]
  },
  {
   "cell_type": "code",
   "execution_count": 46,
   "metadata": {},
   "outputs": [],
   "source": [
    "# function for plotting Kaplan-Meier curve segmented\n",
    "def plot_categorical_survival(feature, t='survival_duration', event='is_dead', df=data, ax=None):\n",
    "    for cat in df[feature].unique():\n",
    "        idx = df[feature] == cat\n",
    "        kmf = lifelines.KaplanMeierFitter()\n",
    "        kmf.fit(df[idx][t], event_observed=df[idx][event], label=cat)\n",
    "        kmf.plot(ax=ax, label=cat)"
   ]
  },
  {
   "cell_type": "code",
   "execution_count": 47,
   "metadata": {},
   "outputs": [
    {
     "data": {
      "image/png": "[encoded data removed]",
      "text/plain": [
       "<Figure size 720x432 with 1 Axes>"
      ]
     },
     "metadata": {
      "needs_background": "light"
     },
     "output_type": "display_data"
    }
   ],
   "source": [
    "# plot by chronic disease\n",
    "fig_edl, ax_edl = plt.subplots(figsize=(10,6))\n",
    "plot_categorical_survival(feature='chronic_disease_binary', ax=ax_edl)\n",
    "ax_edl.set_title('\\nCovid-19 Survival by Chronic Disease\\n')\n",
    "ax_edl.set_xlabel('Covid-19 Duration Time (Days)')\n",
    "ax_edl.set_ylabel('Covid-19 Survival Chance (%)')\n",
    "ax_edl.spines['top'].set_visible(False)\n",
    "ax_edl.spines['right'].set_visible(False);"
   ]
  },
  {
   "cell_type": "markdown",
   "metadata": {},
   "source": [
    "Chronic Disease is a strong factor that influence the survival time. The patient's survival chance decreases substantially during 10 days after the confirmation. Normal people have absolute survival chance regardless of time after the confirmation.   "
   ]
  },
  {
   "cell_type": "markdown",
   "metadata": {},
   "source": [
    "### (g) KM curve for gender, conduct log-rank test"
   ]
  },
  {
   "cell_type": "code",
   "execution_count": 48,
   "metadata": {},
   "outputs": [],
   "source": [
    "# data['survival_months'] = (data['survival_duration'] / 30).round()"
   ]
  },
  {
   "cell_type": "code",
   "execution_count": 49,
   "metadata": {},
   "outputs": [
    {
     "data": {
      "image/png": "[encoded data removed]",
      "text/plain": [
       "<Figure size 720x432 with 1 Axes>"
      ]
     },
     "metadata": {
      "needs_background": "light"
     },
     "output_type": "display_data"
    }
   ],
   "source": [
    "# plot by gender\n",
    "fig_edl, ax_edl = plt.subplots(figsize=(10,6))\n",
    "plot_categorical_survival(feature='sex', ax=ax_edl)\n",
    "ax_edl.set_title('\\nCovid-19 Survival by Gender\\n')\n",
    "ax_edl.set_xlabel('Covid-19 Duration Time (Days))')\n",
    "ax_edl.set_ylabel('Covid-19 Survival Chance (%)')\n",
    "ax_edl.spines['top'].set_visible(False)\n",
    "ax_edl.spines['right'].set_visible(False);"
   ]
  },
  {
   "cell_type": "markdown",
   "metadata": {},
   "source": [
    "Although there is a minor different between female and male, female obtains higher survival chance than male. However, both genders share the same pattern. More than 98% of them live more than 400 days.   "
   ]
  },
  {
   "cell_type": "code",
   "execution_count": 50,
   "metadata": {},
   "outputs": [
    {
     "data": {
      "text/html": [
       "<div>\n",
       "<style scoped>\n",
       "    .dataframe tbody tr th:only-of-type {\n",
       "        vertical-align: middle;\n",
       "    }\n",
       "\n",
       "    .dataframe tbody tr th {\n",
       "        vertical-align: top;\n",
       "    }\n",
       "\n",
       "    .dataframe thead th {\n",
       "        text-align: right;\n",
       "    }\n",
       "</style>\n",
       "<table border=\"1\" class=\"dataframe\">\n",
       "  <tbody>\n",
       "    <tr>\n",
       "      <th>t_0</th>\n",
       "      <td>-1</td>\n",
       "    </tr>\n",
       "    <tr>\n",
       "      <th>null_distribution</th>\n",
       "      <td>chi squared</td>\n",
       "    </tr>\n",
       "    <tr>\n",
       "      <th>degrees_of_freedom</th>\n",
       "      <td>1</td>\n",
       "    </tr>\n",
       "    <tr>\n",
       "      <th>alpha</th>\n",
       "      <td>0.99</td>\n",
       "    </tr>\n",
       "    <tr>\n",
       "      <th>test_name</th>\n",
       "      <td>logrank_test</td>\n",
       "    </tr>\n",
       "  </tbody>\n",
       "</table>\n",
       "</div><table border=\"1\" class=\"dataframe\">\n",
       "  <thead>\n",
       "    <tr style=\"text-align: right;\">\n",
       "      <th></th>\n",
       "      <th>test_statistic</th>\n",
       "      <th>p</th>\n",
       "      <th>-log2(p)</th>\n",
       "    </tr>\n",
       "  </thead>\n",
       "  <tbody>\n",
       "    <tr>\n",
       "      <th>0</th>\n",
       "      <td>65.83</td>\n",
       "      <td>&lt;0.005</td>\n",
       "      <td>50.86</td>\n",
       "    </tr>\n",
       "  </tbody>\n",
       "</table>"
      ],
      "text/latex": [
       "\\begin{tabular}{lrrr}\n",
       "\\toprule\n",
       "{} &  test\\_statistic &             p &   -log2(p) \\\\\n",
       "\\midrule\n",
       "0 &       65.833929 &  4.905643e-16 &  50.856407 \\\\\n",
       "\\bottomrule\n",
       "\\end{tabular}\n"
      ],
      "text/plain": [
       "<lifelines.StatisticalResult: logrank_test>\n",
       "               t_0 = -1\n",
       " null_distribution = chi squared\n",
       "degrees_of_freedom = 1\n",
       "             alpha = 0.99\n",
       "         test_name = logrank_test\n",
       "\n",
       "---\n",
       " test_statistic      p  -log2(p)\n",
       "          65.83 <0.005     50.86"
      ]
     },
     "metadata": {},
     "output_type": "display_data"
    }
   ],
   "source": [
    "# check survival curves for different genders\n",
    "female = (data['sex'] == 'female')\n",
    "T = data['survival_duration']\n",
    "E = data['is_dead']\n",
    "kmf.fit(T[female], event_observed=E[female])\n",
    "\n",
    "# calculate log rank test and print the result\n",
    "covid_gender_results = logrank_test(T[female], T[~female], E[female], E[~female], alpha=.99)\n",
    "covid_gender_results.print_summary()"
   ]
  },
  {
   "cell_type": "markdown",
   "metadata": {},
   "source": [
    "### Interpretation\n",
    "The null hypothesis is that both genders have the same survival chance. \n",
    "The log-rank test provided a p-value of less than 0.005 (less than significant level 0.01). This indicates that the difference in survival between genders was statistically significant. In this case, I reject the null hypothesis and concludes that there is a different in survival chance between gender groups."
   ]
  },
  {
   "cell_type": "markdown",
   "metadata": {},
   "source": [
    "### (h) KM curve for age groups, conduct log-rank test"
   ]
  },
  {
   "cell_type": "code",
   "execution_count": 51,
   "metadata": {},
   "outputs": [
    {
     "data": {
      "image/png": "[encoded data removed]",
      "text/plain": [
       "<Figure size 720x432 with 1 Axes>"
      ]
     },
     "metadata": {
      "needs_background": "light"
     },
     "output_type": "display_data"
    }
   ],
   "source": [
    "# plot by age groups\n",
    "fig_edl, ax_edl = plt.subplots(figsize=(10,6))\n",
    "plot_categorical_survival(feature='age_cat', ax=ax_edl)\n",
    "ax_edl.set_title('\\nCovid-19 Survival by Age Groups\\n')\n",
    "ax_edl.set_xlabel('Covid-19 Duration Time (Days)')\n",
    "ax_edl.set_ylabel('Covid-19 Survival Chance (%)')\n",
    "ax_edl.spines['top'].set_visible(False)\n",
    "ax_edl.spines['right'].set_visible(False);"
   ]
  },
  {
   "cell_type": "markdown",
   "metadata": {},
   "source": [
    "The older the patient, the lower survival chance. Old group has the lowest survival chance than others."
   ]
  },
  {
   "cell_type": "markdown",
   "metadata": {},
   "source": [
    "**Single**"
   ]
  },
  {
   "cell_type": "code",
   "execution_count": 52,
   "metadata": {},
   "outputs": [
    {
     "data": {
      "text/html": [
       "<div>\n",
       "<style scoped>\n",
       "    .dataframe tbody tr th:only-of-type {\n",
       "        vertical-align: middle;\n",
       "    }\n",
       "\n",
       "    .dataframe tbody tr th {\n",
       "        vertical-align: top;\n",
       "    }\n",
       "\n",
       "    .dataframe thead th {\n",
       "        text-align: right;\n",
       "    }\n",
       "</style>\n",
       "<table border=\"1\" class=\"dataframe\">\n",
       "  <tbody>\n",
       "    <tr>\n",
       "      <th>t_0</th>\n",
       "      <td>-1</td>\n",
       "    </tr>\n",
       "    <tr>\n",
       "      <th>null_distribution</th>\n",
       "      <td>chi squared</td>\n",
       "    </tr>\n",
       "    <tr>\n",
       "      <th>degrees_of_freedom</th>\n",
       "      <td>1</td>\n",
       "    </tr>\n",
       "    <tr>\n",
       "      <th>alpha</th>\n",
       "      <td>0.99</td>\n",
       "    </tr>\n",
       "    <tr>\n",
       "      <th>test_name</th>\n",
       "      <td>logrank_test</td>\n",
       "    </tr>\n",
       "  </tbody>\n",
       "</table>\n",
       "</div><table border=\"1\" class=\"dataframe\">\n",
       "  <thead>\n",
       "    <tr style=\"text-align: right;\">\n",
       "      <th></th>\n",
       "      <th>test_statistic</th>\n",
       "      <th>p</th>\n",
       "      <th>-log2(p)</th>\n",
       "    </tr>\n",
       "  </thead>\n",
       "  <tbody>\n",
       "    <tr>\n",
       "      <th>0</th>\n",
       "      <td>40.01</td>\n",
       "      <td>&lt;0.005</td>\n",
       "      <td>31.88</td>\n",
       "    </tr>\n",
       "  </tbody>\n",
       "</table>"
      ],
      "text/latex": [
       "\\begin{tabular}{lrrr}\n",
       "\\toprule\n",
       "{} &  test\\_statistic &             p &   -log2(p) \\\\\n",
       "\\midrule\n",
       "0 &       40.008286 &  2.528878e-10 &  31.880783 \\\\\n",
       "\\bottomrule\n",
       "\\end{tabular}\n"
      ],
      "text/plain": [
       "<lifelines.StatisticalResult: logrank_test>\n",
       "               t_0 = -1\n",
       " null_distribution = chi squared\n",
       "degrees_of_freedom = 1\n",
       "             alpha = 0.99\n",
       "         test_name = logrank_test\n",
       "\n",
       "---\n",
       " test_statistic      p  -log2(p)\n",
       "          40.01 <0.005     31.88"
      ]
     },
     "metadata": {},
     "output_type": "display_data"
    }
   ],
   "source": [
    "# old\n",
    "age_gr = (data['age_cat'] == 'old')\n",
    "T = data['survival_duration']\n",
    "E = data['is_dead']\n",
    "kmf.fit(T[age_gr], event_observed=E[age_gr])\n",
    "\n",
    "# calculate log rank test and print the result\n",
    "covid_age_results = logrank_test(T[age_gr], T[~age_gr], E[age_gr], E[~age_gr], alpha=.99)\n",
    "covid_age_results.print_summary()"
   ]
  },
  {
   "cell_type": "code",
   "execution_count": 53,
   "metadata": {},
   "outputs": [
    {
     "data": {
      "text/html": [
       "<div>\n",
       "<style scoped>\n",
       "    .dataframe tbody tr th:only-of-type {\n",
       "        vertical-align: middle;\n",
       "    }\n",
       "\n",
       "    .dataframe tbody tr th {\n",
       "        vertical-align: top;\n",
       "    }\n",
       "\n",
       "    .dataframe thead th {\n",
       "        text-align: right;\n",
       "    }\n",
       "</style>\n",
       "<table border=\"1\" class=\"dataframe\">\n",
       "  <tbody>\n",
       "    <tr>\n",
       "      <th>t_0</th>\n",
       "      <td>-1</td>\n",
       "    </tr>\n",
       "    <tr>\n",
       "      <th>null_distribution</th>\n",
       "      <td>chi squared</td>\n",
       "    </tr>\n",
       "    <tr>\n",
       "      <th>degrees_of_freedom</th>\n",
       "      <td>1</td>\n",
       "    </tr>\n",
       "    <tr>\n",
       "      <th>alpha</th>\n",
       "      <td>0.99</td>\n",
       "    </tr>\n",
       "    <tr>\n",
       "      <th>test_name</th>\n",
       "      <td>logrank_test</td>\n",
       "    </tr>\n",
       "  </tbody>\n",
       "</table>\n",
       "</div><table border=\"1\" class=\"dataframe\">\n",
       "  <thead>\n",
       "    <tr style=\"text-align: right;\">\n",
       "      <th></th>\n",
       "      <th>test_statistic</th>\n",
       "      <th>p</th>\n",
       "      <th>-log2(p)</th>\n",
       "    </tr>\n",
       "  </thead>\n",
       "  <tbody>\n",
       "    <tr>\n",
       "      <th>0</th>\n",
       "      <td>311.90</td>\n",
       "      <td>&lt;0.005</td>\n",
       "      <td>229.46</td>\n",
       "    </tr>\n",
       "  </tbody>\n",
       "</table>"
      ],
      "text/latex": [
       "\\begin{tabular}{lrrr}\n",
       "\\toprule\n",
       "{} &  test\\_statistic &             p &    -log2(p) \\\\\n",
       "\\midrule\n",
       "0 &      311.898445 &  8.426851e-70 &  229.459973 \\\\\n",
       "\\bottomrule\n",
       "\\end{tabular}\n"
      ],
      "text/plain": [
       "<lifelines.StatisticalResult: logrank_test>\n",
       "               t_0 = -1\n",
       " null_distribution = chi squared\n",
       "degrees_of_freedom = 1\n",
       "             alpha = 0.99\n",
       "         test_name = logrank_test\n",
       "\n",
       "---\n",
       " test_statistic      p  -log2(p)\n",
       "         311.90 <0.005    229.46"
      ]
     },
     "metadata": {},
     "output_type": "display_data"
    }
   ],
   "source": [
    "# middle\n",
    "age_gr = (data['age_cat'] == 'middle')\n",
    "T = data['survival_duration']\n",
    "E = data['is_dead']\n",
    "kmf.fit(T[age_gr], event_observed=E[age_gr])\n",
    "covid_age_results = logrank_test(T[age_gr], T[~age_gr], E[age_gr], E[~age_gr], alpha=.99)\n",
    "covid_age_results.print_summary()"
   ]
  },
  {
   "cell_type": "code",
   "execution_count": 54,
   "metadata": {},
   "outputs": [
    {
     "data": {
      "text/html": [
       "<div>\n",
       "<style scoped>\n",
       "    .dataframe tbody tr th:only-of-type {\n",
       "        vertical-align: middle;\n",
       "    }\n",
       "\n",
       "    .dataframe tbody tr th {\n",
       "        vertical-align: top;\n",
       "    }\n",
       "\n",
       "    .dataframe thead th {\n",
       "        text-align: right;\n",
       "    }\n",
       "</style>\n",
       "<table border=\"1\" class=\"dataframe\">\n",
       "  <tbody>\n",
       "    <tr>\n",
       "      <th>t_0</th>\n",
       "      <td>-1</td>\n",
       "    </tr>\n",
       "    <tr>\n",
       "      <th>null_distribution</th>\n",
       "      <td>chi squared</td>\n",
       "    </tr>\n",
       "    <tr>\n",
       "      <th>degrees_of_freedom</th>\n",
       "      <td>1</td>\n",
       "    </tr>\n",
       "    <tr>\n",
       "      <th>alpha</th>\n",
       "      <td>0.99</td>\n",
       "    </tr>\n",
       "    <tr>\n",
       "      <th>test_name</th>\n",
       "      <td>logrank_test</td>\n",
       "    </tr>\n",
       "  </tbody>\n",
       "</table>\n",
       "</div><table border=\"1\" class=\"dataframe\">\n",
       "  <thead>\n",
       "    <tr style=\"text-align: right;\">\n",
       "      <th></th>\n",
       "      <th>test_statistic</th>\n",
       "      <th>p</th>\n",
       "      <th>-log2(p)</th>\n",
       "    </tr>\n",
       "  </thead>\n",
       "  <tbody>\n",
       "    <tr>\n",
       "      <th>0</th>\n",
       "      <td>118.20</td>\n",
       "      <td>&lt;0.005</td>\n",
       "      <td>89.04</td>\n",
       "    </tr>\n",
       "  </tbody>\n",
       "</table>"
      ],
      "text/latex": [
       "\\begin{tabular}{lrrr}\n",
       "\\toprule\n",
       "{} &  test\\_statistic &             p &   -log2(p) \\\\\n",
       "\\midrule\n",
       "0 &      118.198833 &  1.568496e-27 &  89.042676 \\\\\n",
       "\\bottomrule\n",
       "\\end{tabular}\n"
      ],
      "text/plain": [
       "<lifelines.StatisticalResult: logrank_test>\n",
       "               t_0 = -1\n",
       " null_distribution = chi squared\n",
       "degrees_of_freedom = 1\n",
       "             alpha = 0.99\n",
       "         test_name = logrank_test\n",
       "\n",
       "---\n",
       " test_statistic      p  -log2(p)\n",
       "         118.20 <0.005     89.04"
      ]
     },
     "metadata": {},
     "output_type": "display_data"
    }
   ],
   "source": [
    "# young\n",
    "age_gr = (data['age_cat'] == 'young')\n",
    "T = data['survival_duration']\n",
    "E = data['is_dead']\n",
    "kmf.fit(T[age_gr], event_observed=E[age_gr])\n",
    "covid_age_results = logrank_test(T[age_gr], T[~age_gr], E[age_gr], E[~age_gr], alpha=.99)\n",
    "covid_age_results.print_summary()"
   ]
  },
  {
   "cell_type": "markdown",
   "metadata": {},
   "source": [
    "**Multiple**"
   ]
  },
  {
   "cell_type": "code",
   "execution_count": 56,
   "metadata": {},
   "outputs": [
    {
     "data": {
      "text/html": [
       "<div>\n",
       "<style scoped>\n",
       "    .dataframe tbody tr th:only-of-type {\n",
       "        vertical-align: middle;\n",
       "    }\n",
       "\n",
       "    .dataframe tbody tr th {\n",
       "        vertical-align: top;\n",
       "    }\n",
       "\n",
       "    .dataframe thead th {\n",
       "        text-align: right;\n",
       "    }\n",
       "</style>\n",
       "<table border=\"1\" class=\"dataframe\">\n",
       "  <tbody>\n",
       "    <tr>\n",
       "      <th>t_0</th>\n",
       "      <td>-1</td>\n",
       "    </tr>\n",
       "    <tr>\n",
       "      <th>null_distribution</th>\n",
       "      <td>chi squared</td>\n",
       "    </tr>\n",
       "    <tr>\n",
       "      <th>degrees_of_freedom</th>\n",
       "      <td>348</td>\n",
       "    </tr>\n",
       "    <tr>\n",
       "      <th>alpha</th>\n",
       "      <td>0.99</td>\n",
       "    </tr>\n",
       "    <tr>\n",
       "      <th>test_name</th>\n",
       "      <td>multivariate_logrank_test</td>\n",
       "    </tr>\n",
       "  </tbody>\n",
       "</table>\n",
       "</div><table border=\"1\" class=\"dataframe\">\n",
       "  <thead>\n",
       "    <tr style=\"text-align: right;\">\n",
       "      <th></th>\n",
       "      <th>test_statistic</th>\n",
       "      <th>p</th>\n",
       "      <th>-log2(p)</th>\n",
       "    </tr>\n",
       "  </thead>\n",
       "  <tbody>\n",
       "    <tr>\n",
       "      <th>0</th>\n",
       "      <td>31859.92</td>\n",
       "      <td>&lt;0.005</td>\n",
       "      <td>inf</td>\n",
       "    </tr>\n",
       "  </tbody>\n",
       "</table>"
      ],
      "text/latex": [
       "\\begin{tabular}{lrrr}\n",
       "\\toprule\n",
       "{} &  test\\_statistic &    p &  -log2(p) \\\\\n",
       "\\midrule\n",
       "0 &    31859.922602 &  0.0 &       inf \\\\\n",
       "\\bottomrule\n",
       "\\end{tabular}\n"
      ],
      "text/plain": [
       "<lifelines.StatisticalResult: multivariate_logrank_test>\n",
       "               t_0 = -1\n",
       " null_distribution = chi squared\n",
       "degrees_of_freedom = 348\n",
       "             alpha = 0.99\n",
       "         test_name = multivariate_logrank_test\n",
       "\n",
       "---\n",
       " test_statistic      p  -log2(p)\n",
       "       31859.92 <0.005       inf"
      ]
     },
     "metadata": {},
     "output_type": "display_data"
    }
   ],
   "source": [
    "# calculate log rank test\n",
    "covid_age_results = multivariate_logrank_test(data['survival_duration'], data['age'], data['is_dead'], alpha=.99)\n",
    "covid_age_results.print_summary()"
   ]
  },
  {
   "cell_type": "markdown",
   "metadata": {},
   "source": [
    "### Interpretation\n",
    "The null hypothesis is that all age groups have the same survival chance. \n",
    "The log-rank test provided a p-value of less than 0.005 (less than significant level 0.01). This indicates that the difference in survival between age groups was statistically significant. In this case, I reject the null hypothesis and concludes that there is a different in survival chance among age categories."
   ]
  },
  {
   "cell_type": "markdown",
   "metadata": {},
   "source": [
    "### (i) Cox Model"
   ]
  },
  {
   "cell_type": "code",
   "execution_count": 57,
   "metadata": {},
   "outputs": [
    {
     "data": {
      "text/html": [
       "<div>\n",
       "<style scoped>\n",
       "    .dataframe tbody tr th:only-of-type {\n",
       "        vertical-align: middle;\n",
       "    }\n",
       "\n",
       "    .dataframe tbody tr th {\n",
       "        vertical-align: top;\n",
       "    }\n",
       "\n",
       "    .dataframe thead th {\n",
       "        text-align: right;\n",
       "    }\n",
       "</style>\n",
       "<table border=\"1\" class=\"dataframe\">\n",
       "  <thead>\n",
       "    <tr style=\"text-align: right;\">\n",
       "      <th></th>\n",
       "      <th>age</th>\n",
       "      <th>sex</th>\n",
       "      <th>date_confirmation</th>\n",
       "      <th>chronic_disease_binary</th>\n",
       "      <th>date_death_or_discharge</th>\n",
       "      <th>outcome</th>\n",
       "      <th>age_cat</th>\n",
       "      <th>is_dead</th>\n",
       "      <th>survival_duration</th>\n",
       "      <th>female</th>\n",
       "    </tr>\n",
       "  </thead>\n",
       "  <tbody>\n",
       "    <tr>\n",
       "      <th>0</th>\n",
       "      <td>78</td>\n",
       "      <td>male</td>\n",
       "      <td>2020-02-21</td>\n",
       "      <td>0</td>\n",
       "      <td>2020-02-22</td>\n",
       "      <td>death</td>\n",
       "      <td>old</td>\n",
       "      <td>1.0</td>\n",
       "      <td>1</td>\n",
       "      <td>0.0</td>\n",
       "    </tr>\n",
       "    <tr>\n",
       "      <th>1</th>\n",
       "      <td>61</td>\n",
       "      <td>female</td>\n",
       "      <td>2020-02-14</td>\n",
       "      <td>0</td>\n",
       "      <td>2020-02-17</td>\n",
       "      <td>discharge</td>\n",
       "      <td>middle</td>\n",
       "      <td>0.0</td>\n",
       "      <td>3</td>\n",
       "      <td>1.0</td>\n",
       "    </tr>\n",
       "  </tbody>\n",
       "</table>\n",
       "</div>"
      ],
      "text/plain": [
       "  age     sex date_confirmation chronic_disease_binary  \\\n",
       "0  78    male        2020-02-21                      0   \n",
       "1  61  female        2020-02-14                      0   \n",
       "\n",
       "  date_death_or_discharge    outcome age_cat  is_dead  survival_duration  \\\n",
       "0              2020-02-22      death     old      1.0                  1   \n",
       "1              2020-02-17  discharge  middle      0.0                  3   \n",
       "\n",
       "  female  \n",
       "0    0.0  \n",
       "1    1.0  "
      ]
     },
     "execution_count": 57,
     "metadata": {},
     "output_type": "execute_result"
    }
   ],
   "source": [
    "data['female'] = data['sex'].map({'male': 0.0,'female': 1.0})\n",
    "data['chronic_disease_binary'] = data['chronic_disease_binary'].map({'False': 0, 'True': 1})\n",
    "data.head(2)"
   ]
  },
  {
   "cell_type": "code",
   "execution_count": 58,
   "metadata": {},
   "outputs": [],
   "source": [
    "df = data.copy()\n",
    "df.drop(['age','sex','date_confirmation','date_death_or_discharge','outcome'], axis=1, inplace=True)"
   ]
  },
  {
   "cell_type": "code",
   "execution_count": 60,
   "metadata": {},
   "outputs": [
    {
     "data": {
      "text/html": [
       "<div>\n",
       "<style scoped>\n",
       "    .dataframe tbody tr th:only-of-type {\n",
       "        vertical-align: middle;\n",
       "    }\n",
       "\n",
       "    .dataframe tbody tr th {\n",
       "        vertical-align: top;\n",
       "    }\n",
       "\n",
       "    .dataframe thead th {\n",
       "        text-align: right;\n",
       "    }\n",
       "</style>\n",
       "<table border=\"1\" class=\"dataframe\">\n",
       "  <thead>\n",
       "    <tr style=\"text-align: right;\">\n",
       "      <th></th>\n",
       "      <th>chronic_disease_binary</th>\n",
       "      <th>age_cat</th>\n",
       "      <th>is_dead</th>\n",
       "      <th>survival_duration</th>\n",
       "      <th>female</th>\n",
       "    </tr>\n",
       "  </thead>\n",
       "  <tbody>\n",
       "    <tr>\n",
       "      <th>0</th>\n",
       "      <td>0</td>\n",
       "      <td>old</td>\n",
       "      <td>1.0</td>\n",
       "      <td>1</td>\n",
       "      <td>0.0</td>\n",
       "    </tr>\n",
       "    <tr>\n",
       "      <th>1</th>\n",
       "      <td>0</td>\n",
       "      <td>middle</td>\n",
       "      <td>0.0</td>\n",
       "      <td>3</td>\n",
       "      <td>1.0</td>\n",
       "    </tr>\n",
       "  </tbody>\n",
       "</table>\n",
       "</div>"
      ],
      "text/plain": [
       "  chronic_disease_binary age_cat  is_dead  survival_duration female\n",
       "0                      0     old      1.0                  1    0.0\n",
       "1                      0  middle      0.0                  3    1.0"
      ]
     },
     "execution_count": 60,
     "metadata": {},
     "output_type": "execute_result"
    }
   ],
   "source": [
    "df.head(2)"
   ]
  },
  {
   "cell_type": "code",
   "execution_count": 61,
   "metadata": {},
   "outputs": [],
   "source": [
    "# one-hot encoding categorical data\n",
    "df = pd.get_dummies(df, drop_first=True, columns=['age_cat'])"
   ]
  },
  {
   "cell_type": "code",
   "execution_count": 62,
   "metadata": {},
   "outputs": [],
   "source": [
    "df['chronic_disease_binary'] = [float(i) for i in df['chronic_disease_binary']]\n",
    "df['female'] = [float(i) for i in df['female']]"
   ]
  },
  {
   "cell_type": "code",
   "execution_count": 63,
   "metadata": {},
   "outputs": [
    {
     "name": "stdout",
     "output_type": "stream",
     "text": [
      "<class 'pandas.core.frame.DataFrame'>\n",
      "RangeIndex: 572679 entries, 0 to 572678\n",
      "Data columns (total 6 columns):\n",
      " #   Column                  Non-Null Count   Dtype  \n",
      "---  ------                  --------------   -----  \n",
      " 0   chronic_disease_binary  572679 non-null  float64\n",
      " 1   is_dead                 572679 non-null  float64\n",
      " 2   survival_duration       572679 non-null  int64  \n",
      " 3   female                  572679 non-null  float64\n",
      " 4   age_cat_old             572679 non-null  uint8  \n",
      " 5   age_cat_young           572679 non-null  uint8  \n",
      "dtypes: float64(3), int64(1), uint8(2)\n",
      "memory usage: 18.6 MB\n"
     ]
    }
   ],
   "source": [
    "df.info()"
   ]
  },
  {
   "cell_type": "code",
   "execution_count": 76,
   "metadata": {},
   "outputs": [
    {
     "data": {
      "image/png": "[encoded data removed]",
      "text/plain": [
       "<Figure size 432x288 with 1 Axes>"
      ]
     },
     "metadata": {
      "needs_background": "light"
     },
     "output_type": "display_data"
    }
   ],
   "source": [
    "corr = df.corr()\n",
    "mask = np.triu(np.ones_like(corr, dtype=bool))\n",
    "sns.heatmap(corr, mask=mask, annot=True, cbar=False, cmap='viridis');"
   ]
  },
  {
   "cell_type": "markdown",
   "metadata": {},
   "source": [
    "Age category has linear relation."
   ]
  },
  {
   "cell_type": "markdown",
   "metadata": {},
   "source": [
    "#### Multivariates"
   ]
  },
  {
   "cell_type": "code",
   "execution_count": 81,
   "metadata": {},
   "outputs": [],
   "source": [
    "# covid_cph = lifelines.CoxPHFitter(penalizer=0.0001)\n",
    "# covid_cph.fit(df, duration_col='survival_duration', event_col='is_dead', show_progress=False)\n",
    "# covid_cph.print_summary()"
   ]
  },
  {
   "cell_type": "code",
   "execution_count": 82,
   "metadata": {},
   "outputs": [],
   "source": [
    "# # plotting coefficients\n",
    "# fig_coef, ax_coef = plt.subplots(figsize=(10,6))\n",
    "# ax_coef.set_title('Survival Regression: Coefficients and Confidence Intervals\\n')\n",
    "# covid_cph.plot(ax=ax_coef);"
   ]
  },
  {
   "cell_type": "code",
   "execution_count": 79,
   "metadata": {},
   "outputs": [
    {
     "data": {
      "image/png": "[encoded data removed]",
      "text/plain": [
       "<Figure size 720x432 with 1 Axes>"
      ]
     },
     "metadata": {
      "needs_background": "light"
     },
     "output_type": "display_data"
    }
   ],
   "source": [
    "# check covariate gender group \n",
    "fig_co, ax_co = plt.subplots(figsize = (10,6))\n",
    "covid_cph.plot_partial_effects_on_outcome('female', [False,True], lw=3, ax=ax_co, alpha=0.8)\n",
    "ax_co.set_title('\\nCox Model with only Gender as Covariate\\n')\n",
    "ax_co.spines['top'].set_visible(False)\n",
    "ax_co.spines['right'].set_visible(False);"
   ]
  },
  {
   "cell_type": "code",
   "execution_count": 80,
   "metadata": {},
   "outputs": [
    {
     "data": {
      "image/png": "[encoded data removed]",
      "text/plain": [
       "<Figure size 720x432 with 1 Axes>"
      ]
     },
     "metadata": {
      "needs_background": "light"
     },
     "output_type": "display_data"
    }
   ],
   "source": [
    "# check covariate chronic disease \n",
    "fig_co, ax_co = plt.subplots(figsize = (10,6))\n",
    "covid_cph.plot_partial_effects_on_outcome('chronic_disease_binary', [False,True], lw=3, ax=ax_co)\n",
    "ax_co.set_title('\\nCox Model with only Chronic Disease as Covariate\\n')\n",
    "ax_co.spines['top'].set_visible(False)\n",
    "ax_co.spines['right'].set_visible(False);"
   ]
  },
  {
   "cell_type": "markdown",
   "metadata": {},
   "source": [
    "#### Gender as the only one covariate"
   ]
  },
  {
   "cell_type": "code",
   "execution_count": 83,
   "metadata": {},
   "outputs": [
    {
     "data": {
      "text/html": [
       "<div>\n",
       "<style scoped>\n",
       "    .dataframe tbody tr th:only-of-type {\n",
       "        vertical-align: middle;\n",
       "    }\n",
       "\n",
       "    .dataframe tbody tr th {\n",
       "        vertical-align: top;\n",
       "    }\n",
       "\n",
       "    .dataframe thead th {\n",
       "        text-align: right;\n",
       "    }\n",
       "</style>\n",
       "<table border=\"1\" class=\"dataframe\">\n",
       "  <tbody>\n",
       "    <tr>\n",
       "      <th>model</th>\n",
       "      <td>lifelines.CoxPHFitter</td>\n",
       "    </tr>\n",
       "    <tr>\n",
       "      <th>duration col</th>\n",
       "      <td>'survival_duration'</td>\n",
       "    </tr>\n",
       "    <tr>\n",
       "      <th>event col</th>\n",
       "      <td>'is_dead'</td>\n",
       "    </tr>\n",
       "    <tr>\n",
       "      <th>baseline estimation</th>\n",
       "      <td>breslow</td>\n",
       "    </tr>\n",
       "    <tr>\n",
       "      <th>number of observations</th>\n",
       "      <td>572679</td>\n",
       "    </tr>\n",
       "    <tr>\n",
       "      <th>number of events observed</th>\n",
       "      <td>1368</td>\n",
       "    </tr>\n",
       "    <tr>\n",
       "      <th>partial log-likelihood</th>\n",
       "      <td>-17437.12</td>\n",
       "    </tr>\n",
       "    <tr>\n",
       "      <th>time fit was run</th>\n",
       "      <td>2021-03-26 07:57:07 UTC</td>\n",
       "    </tr>\n",
       "  </tbody>\n",
       "</table>\n",
       "</div><table border=\"1\" class=\"dataframe\">\n",
       "  <thead>\n",
       "    <tr style=\"text-align: right;\">\n",
       "      <th style=\"min-width: 12px;\"></th>\n",
       "      <th style=\"min-width: 12px;\">coef</th>\n",
       "      <th style=\"min-width: 12px;\">exp(coef)</th>\n",
       "      <th style=\"min-width: 12px;\">se(coef)</th>\n",
       "      <th style=\"min-width: 12px;\">coef lower 95%</th>\n",
       "      <th style=\"min-width: 12px;\">coef upper 95%</th>\n",
       "      <th style=\"min-width: 12px;\">exp(coef) lower 95%</th>\n",
       "      <th style=\"min-width: 12px;\">exp(coef) upper 95%</th>\n",
       "      <th style=\"min-width: 12px;\">z</th>\n",
       "      <th style=\"min-width: 12px;\">p</th>\n",
       "      <th style=\"min-width: 12px;\">-log2(p)</th>\n",
       "    </tr>\n",
       "  </thead>\n",
       "  <tbody>\n",
       "    <tr>\n",
       "      <th>female</th>\n",
       "      <td>-0.45</td>\n",
       "      <td>0.64</td>\n",
       "      <td>0.06</td>\n",
       "      <td>-0.56</td>\n",
       "      <td>-0.34</td>\n",
       "      <td>0.57</td>\n",
       "      <td>0.71</td>\n",
       "      <td>-8.05</td>\n",
       "      <td>&lt;0.005</td>\n",
       "      <td>50.05</td>\n",
       "    </tr>\n",
       "  </tbody>\n",
       "</table><br><div>\n",
       "<style scoped>\n",
       "    .dataframe tbody tr th:only-of-type {\n",
       "        vertical-align: middle;\n",
       "    }\n",
       "\n",
       "    .dataframe tbody tr th {\n",
       "        vertical-align: top;\n",
       "    }\n",
       "\n",
       "    .dataframe thead th {\n",
       "        text-align: right;\n",
       "    }\n",
       "</style>\n",
       "<table border=\"1\" class=\"dataframe\">\n",
       "  <tbody>\n",
       "    <tr>\n",
       "      <th>Concordance</th>\n",
       "      <td>0.55</td>\n",
       "    </tr>\n",
       "    <tr>\n",
       "      <th>Partial AIC</th>\n",
       "      <td>34876.24</td>\n",
       "    </tr>\n",
       "    <tr>\n",
       "      <th>log-likelihood ratio test</th>\n",
       "      <td>66.83 on 1 df</td>\n",
       "    </tr>\n",
       "    <tr>\n",
       "      <th>-log2(p) of ll-ratio test</th>\n",
       "      <td>51.59</td>\n",
       "    </tr>\n",
       "  </tbody>\n",
       "</table>\n",
       "</div>"
      ],
      "text/latex": [
       "\\begin{tabular}{lrrrrrrrrrr}\n",
       "\\toprule\n",
       "{} &  coef &  exp(coef) &  se(coef) &  coef lower 95\\% &  coef upper 95\\% &  exp(coef) lower 95\\% &  exp(coef) upper 95\\% &     z &    p &  -log2(p) \\\\\n",
       "covariate &       &            &           &                 &                 &                      &                      &       &      &           \\\\\n",
       "\\midrule\n",
       "female    & -0.45 &       0.64 &      0.06 &           -0.56 &           -0.34 &                 0.57 &                 0.71 & -8.05 & 0.00 &     50.05 \\\\\n",
       "\\bottomrule\n",
       "\\end{tabular}\n"
      ],
      "text/plain": [
       "<lifelines.CoxPHFitter: fitted with 572679 total observations, 571311 right-censored observations>\n",
       "             duration col = 'survival_duration'\n",
       "                event col = 'is_dead'\n",
       "      baseline estimation = breslow\n",
       "   number of observations = 572679\n",
       "number of events observed = 1368\n",
       "   partial log-likelihood = -17437.12\n",
       "         time fit was run = 2021-03-26 07:57:07 UTC\n",
       "\n",
       "---\n",
       "            coef  exp(coef)   se(coef)   coef lower 95%   coef upper 95%  exp(coef) lower 95%  exp(coef) upper 95%\n",
       "covariate                                                                                                         \n",
       "female     -0.45       0.64       0.06            -0.56            -0.34                 0.57                 0.71\n",
       "\n",
       "              z      p   -log2(p)\n",
       "covariate                        \n",
       "female    -8.05 <0.005      50.05\n",
       "---\n",
       "Concordance = 0.55\n",
       "Partial AIC = 34876.24\n",
       "log-likelihood ratio test = 66.83 on 1 df\n",
       "-log2(p) of ll-ratio test = 51.59"
      ]
     },
     "metadata": {},
     "output_type": "display_data"
    }
   ],
   "source": [
    "df1 = data[['female','survival_duration','is_dead']].copy()\n",
    "fe_cph = lifelines.CoxPHFitter() #penalizer=0.0001\n",
    "fe_cph.fit(df1, duration_col='survival_duration', event_col='is_dead', show_progress=False)\n",
    "fe_cph.print_summary()"
   ]
  },
  {
   "cell_type": "code",
   "execution_count": 84,
   "metadata": {},
   "outputs": [
    {
     "data": {
      "image/png": "[encoded data removed]",
      "text/plain": [
       "<Figure size 720x432 with 1 Axes>"
      ]
     },
     "metadata": {
      "needs_background": "light"
     },
     "output_type": "display_data"
    }
   ],
   "source": [
    "# check covariate gender group \n",
    "fig_co, ax_co = plt.subplots(figsize = (10,6))\n",
    "fe_cph.plot_partial_effects_on_outcome('female', [False,True], lw=3, ax=ax_co, alpha=0.8)\n",
    "ax_co.set_title('\\nCox Model with only Gender as Covariate\\n')\n",
    "ax_co.spines['top'].set_visible(False)\n",
    "ax_co.spines['right'].set_visible(False);"
   ]
  },
  {
   "cell_type": "code",
   "execution_count": 85,
   "metadata": {},
   "outputs": [
    {
     "data": {
      "image/png": "[encoded data removed]",
      "text/plain": [
       "<Figure size 432x288 with 1 Axes>"
      ]
     },
     "metadata": {
      "needs_background": "light"
     },
     "output_type": "display_data"
    }
   ],
   "source": [
    "fe_cph.plot();"
   ]
  },
  {
   "cell_type": "markdown",
   "metadata": {},
   "source": [
    "### (j) Gender as a stratify variable and Age Groups as a covariate."
   ]
  },
  {
   "cell_type": "code",
   "execution_count": null,
   "metadata": {},
   "outputs": [],
   "source": [
    "age_gen = data[['female','survival_duration','is_dead','age_cat']].copy()\n",
    "age_gen = pd.get_dummies(age_gen, drop_first=False, columns=['age_cat'])\n",
    "age_gen_cph = lifelines.CoxPHFitter(penalizer=0.0001) \n",
    "age_gen_cph.fit(age_gen, duration_col='survival_duration', event_col='is_dead', show_progress=False, strata='female')\n",
    "age_gen_cph.print_summary()\n",
    "age_gen_cph.check_assumptions(age_gen, p_value_threshold=0.05, show_plots=True)"
   ]
  },
  {
   "attachments": {
    "image.png": {
     "image/png": "[encoded data removed]"
    }
   },
   "cell_type": "markdown",
   "metadata": {},
   "source": [
    "![image.png](attachment:image.png)"
   ]
  },
  {
   "cell_type": "code",
   "execution_count": 87,
   "metadata": {},
   "outputs": [
    {
     "data": {
      "image/png": "[encoded data removed]",
      "text/plain": [
       "<Figure size 432x288 with 1 Axes>"
      ]
     },
     "metadata": {
      "needs_background": "light"
     },
     "output_type": "display_data"
    }
   ],
   "source": [
    "age_gen_cph.plot()\n",
    "plt.yticks(np.arange(3), ('Old','Middle','Young'));"
   ]
  },
  {
   "cell_type": "markdown",
   "metadata": {},
   "source": [
    "### (k) Weibull Model"
   ]
  },
  {
   "cell_type": "code",
   "execution_count": 88,
   "metadata": {},
   "outputs": [
    {
     "data": {
      "image/png": "[encoded data removed]",
      "text/plain": [
       "<Figure size 720x432 with 1 Axes>"
      ]
     },
     "metadata": {
      "needs_background": "light"
     },
     "output_type": "display_data"
    }
   ],
   "source": [
    "df2 = data.copy()\n",
    "df2.loc[df2['survival_duration'] == 0 ]\n",
    "from lifelines import WeibullFitter\n",
    "wbf = WeibullFitter().fit(data['survival_duration']+1, event_observed=data['is_dead'])\n",
    "ax = wbf.plot_survival_function(figsize=(10,6))\n",
    "ax.set_ylabel('Covid-19 Survival Chance (%)')\n",
    "ax.set_xlabel('Covid-19 Duration Time (Days)');"
   ]
  },
  {
   "cell_type": "markdown",
   "metadata": {},
   "source": [
    "Weibull model shows that the death rate decreases over time. This parametric model has a smooth curve which is simultaneously proportional and accelerated. The relative event rates and survival time can be estimated."
   ]
  },
  {
   "cell_type": "markdown",
   "metadata": {},
   "source": [
    "## 5. Conclusion\n",
    "\n",
    "- Kaplan-Meier curves show that there is a difference on survival rate between genders or among the age groups. \n",
    "- Gender as the only covariate is not trustful enough for the prediction of who in the pair (the case with high risk score or the case with lower risk score) will die sooner just based on gender. However, when adding age groups as covariate and gender as a stratify, the predictor performs much better and with high confidence."
   ]
  },
  {
   "cell_type": "markdown",
   "metadata": {},
   "source": [
    " "
   ]
  }
 ],
 "metadata": {
  "kernelspec": {
   "display_name": "Python 3",
   "language": "python",
   "name": "python3"
  },
  "language_info": {
   "codemirror_mode": {
    "name": "ipython",
    "version": 3
   },
   "file_extension": ".py",
   "mimetype": "text/x-python",
   "name": "python",
   "nbconvert_exporter": "python",
   "pygments_lexer": "ipython3",
   "version": "3.8.3"
  },
  "varInspector": {
   "cols": {
    "lenName": 16,
    "lenType": 16,
    "lenVar": 40
   },
   "kernels_config": {
    "python": {
     "delete_cmd_postfix": "",
     "delete_cmd_prefix": "del ",
     "library": "var_list.py",
     "varRefreshCmd": "print(var_dic_list())"
    },
    "r": {
     "delete_cmd_postfix": ") ",
     "delete_cmd_prefix": "rm(",
     "library": "var_list.r",
     "varRefreshCmd": "cat(var_dic_list()) "
    }
   },
   "types_to_exclude": [
    "module",
    "function",
    "builtin_function_or_method",
    "instance",
    "_Feature"
   ],
   "window_display": false
  }
 },
 "nbformat": 4,
 "nbformat_minor": 4
}
